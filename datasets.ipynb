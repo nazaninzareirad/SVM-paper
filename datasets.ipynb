{
  "cells": [
    {
      "cell_type": "markdown",
      "metadata": {
        "id": "HWhcrq4u7vcI"
      },
      "source": [
        "# Datasets for future model runnings"
      ]
    },
    {
      "cell_type": "markdown",
      "metadata": {
        "id": "pGsLq8KK70_T"
      },
      "source": [
        "## Ionosphere"
      ]
    },
    {
      "cell_type": "code",
      "execution_count": null,
      "metadata": {
        "colab": {
          "background_save": true
        },
        "id": "XnqMbUgw70KE",
        "outputId": "f555b348-71bf-48c8-dc60-55d7d82a5db9"
      },
      "outputs": [
        {
          "name": "stdout",
          "output_type": "stream",
          "text": [
            "Features shape: (351, 34)\n",
            "Target shape: (351,)\n",
            "   a01  a02      a03      a04      a05      a06      a07      a08      a09  \\\n",
            "0  1.0  0.0  0.99539 -0.05889  0.85243  0.02306  0.83398 -0.37708  1.00000   \n",
            "1  1.0  0.0  1.00000 -0.18829  0.93035 -0.36156 -0.10868 -0.93597  1.00000   \n",
            "2  1.0  0.0  1.00000 -0.03365  1.00000  0.00485  1.00000 -0.12062  0.88965   \n",
            "3  1.0  0.0  1.00000 -0.45161  1.00000  1.00000  0.71216 -1.00000  0.00000   \n",
            "4  1.0  0.0  1.00000 -0.02401  0.94140  0.06531  0.92106 -0.23255  0.77152   \n",
            "\n",
            "       a10  ...      a25      a26      a27      a28      a29      a30  \\\n",
            "0  0.03760  ...  0.56811 -0.51171  0.41078 -0.46168  0.21266 -0.34090   \n",
            "1 -0.04549  ... -0.20332 -0.26569 -0.20468 -0.18401 -0.19040 -0.11593   \n",
            "2  0.01198  ...  0.57528 -0.40220  0.58984 -0.22145  0.43100 -0.17365   \n",
            "3  0.00000  ...  1.00000  0.90695  0.51613  1.00000  1.00000 -0.20099   \n",
            "4 -0.16399  ...  0.03286 -0.65158  0.13290 -0.53206  0.02431 -0.62197   \n",
            "\n",
            "       a31      a32      a33      a34  \n",
            "0  0.42267 -0.54487  0.18641 -0.45300  \n",
            "1 -0.16626 -0.06288 -0.13738 -0.02447  \n",
            "2  0.60436 -0.24180  0.56045 -0.38238  \n",
            "3  0.25682  1.00000 -0.32382  1.00000  \n",
            "4 -0.05707 -0.59573 -0.04608 -0.65697  \n",
            "\n",
            "[5 rows x 34 columns]\n",
            "0    g\n",
            "1    b\n",
            "2    g\n",
            "3    b\n",
            "4    g\n",
            "Name: class, dtype: category\n",
            "Categories (2, object): ['b', 'g']\n"
          ]
        },
        {
          "name": "stderr",
          "output_type": "stream",
          "text": [
            "/usr/local/lib/python3.10/dist-packages/sklearn/datasets/_openml.py:1022: FutureWarning: The default value of `parser` will change from `'liac-arff'` to `'auto'` in 1.4. You can set `parser='auto'` to silence this warning. Therefore, an `ImportError` will be raised from 1.4 if the dataset is dense and pandas is not installed. Note that the pandas parser may return different data types. See the Notes Section in fetch_openml's API doc for details.\n",
            "  warn(\n"
          ]
        }
      ],
      "source": [
        "from sklearn.datasets import fetch_openml\n",
        "\n",
        "ionosphere_data = fetch_openml('ionosphere', version=1)\n",
        "\n",
        "X = ionosphere_data.data\n",
        "y = ionosphere_data.target\n",
        "\n",
        "print(\"Features shape:\", X.shape)\n",
        "print(\"Target shape:\", y.shape)\n",
        "\n",
        "print(X.head())\n",
        "print(y.head())\n"
      ]
    },
    {
      "cell_type": "markdown",
      "metadata": {
        "id": "O63OBf2b8Lxt"
      },
      "source": [
        "## Breast Cancer"
      ]
    },
    {
      "cell_type": "code",
      "source": [
        "from sklearn.datasets import load_breast_cancer\n",
        "\n",
        "breast_cancer_data = load_breast_cancer()\n",
        "X = breast_cancer_data.data\n",
        "y = breast_cancer_data.target\n",
        "\n",
        "print(X.shape, y.shape)\n"
      ],
      "metadata": {
        "id": "FXcZoT2N1iFm"
      },
      "execution_count": null,
      "outputs": []
    },
    {
      "cell_type": "markdown",
      "source": [
        "## Dermatology"
      ],
      "metadata": {
        "id": "vGXMc7Cq1jKj"
      }
    },
    {
      "cell_type": "code",
      "source": [
        "import pandas as pd\n",
        "\n",
        "url = \"https://archive.ics.uci.edu/ml/machine-learning-databases/dermatology/dermatology.data\"\n",
        "column_names = ['Class'] + ['Feature' + str(i) for i in range(1, 34)]\n",
        "dermatology_data = pd.read_csv(url, header=None, names=column_names)\n",
        "\n",
        "print(dermatology_data.head())\n"
      ],
      "metadata": {
        "id": "UTTqKj5V1ixq"
      },
      "execution_count": null,
      "outputs": []
    },
    {
      "cell_type": "markdown",
      "source": [
        "## Pedestrian"
      ],
      "metadata": {
        "id": "u1svITaw22Xn"
      }
    },
    {
      "cell_type": "code",
      "source": [
        "import cv2\n",
        "import os\n",
        "\n",
        "#pedestrian\n",
        "dataset_path = ''\n",
        "images = []\n",
        "\n",
        "for filename in os.listdir(dataset_path):\n",
        "    if filename.endswith('.jpg'):\n",
        "        img = cv2.imread(os.path.join(dataset_path, filename))\n",
        "        images.append(img)\n",
        "\n",
        "print(len(images))\n"
      ],
      "metadata": {
        "id": "HClwNYB01rSo"
      },
      "execution_count": null,
      "outputs": []
    },
    {
      "cell_type": "markdown",
      "source": [
        "## Isolet"
      ],
      "metadata": {
        "id": "VnOXzJyR28To"
      }
    },
    {
      "cell_type": "code",
      "source": [
        "!pip install ucimlrepo"
      ],
      "metadata": {
        "id": "heQG3Sma3FQL"
      },
      "execution_count": null,
      "outputs": []
    },
    {
      "cell_type": "code",
      "source": [
        "# isolet\n",
        "from ucimlrepo import fetch_ucirepo\n",
        "\n",
        "isolet = fetch_ucirepo(id=54)\n",
        "\n",
        "X = isolet.data.features\n",
        "y = isolet.data.targets\n",
        "\n",
        "\n"
      ],
      "metadata": {
        "id": "EvtqHa_u1y_w"
      },
      "execution_count": null,
      "outputs": []
    },
    {
      "cell_type": "markdown",
      "source": [
        "## Musk"
      ],
      "metadata": {
        "id": "F7XcSN8m3LXz"
      }
    },
    {
      "cell_type": "code",
      "source": [
        "from ucimlrepo import fetch_ucirepo\n",
        "\n",
        "musk_version_2 = fetch_ucirepo(id=75)\n",
        "\n",
        "X = musk_version_2.data.features\n",
        "y = musk_version_2.data.targets\n",
        "\n",
        "\n",
        "\n"
      ],
      "metadata": {
        "id": "g9XMIiOP1-5r"
      },
      "execution_count": null,
      "outputs": []
    }
  ],
  "metadata": {
    "colab": {
      "provenance": [],
      "authorship_tag": "ABX9TyOKe9TGb7g5qblxb+TwLOiY"
    },
    "kernelspec": {
      "display_name": "Python 3",
      "name": "python3"
    },
    "language_info": {
      "name": "python"
    }
  },
  "nbformat": 4,
  "nbformat_minor": 0
}