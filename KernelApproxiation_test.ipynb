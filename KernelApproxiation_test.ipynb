{
  "nbformat": 4,
  "nbformat_minor": 0,
  "metadata": {
    "colab": {
      "provenance": [],
      "authorship_tag": "ABX9TyMB1lcqwNbuV80/0DThmCHN",
      "include_colab_link": true
    },
    "kernelspec": {
      "name": "python3",
      "display_name": "Python 3"
    },
    "language_info": {
      "name": "python"
    }
  },
  "cells": [
    {
      "cell_type": "markdown",
      "metadata": {
        "id": "view-in-github",
        "colab_type": "text"
      },
      "source": [
        "<a href=\"https://colab.research.google.com/github/nazaninzareirad/SVM-paper/blob/main/KernelApproxiation_test.ipynb\" target=\"_parent\"><img src=\"https://colab.research.google.com/assets/colab-badge.svg\" alt=\"Open In Colab\"/></a>"
      ]
    },
    {
      "cell_type": "code",
      "execution_count": null,
      "metadata": {
        "id": "K6UmzLvlHFlm"
      },
      "outputs": [],
      "source": [
        "import numpy as np\n",
        "import pandas as pd\n",
        "from sklearn import datasets as sk_datasets\n",
        "from sklearn.model_selection import train_test_split\n",
        "from sklearn.svm import SVC\n",
        "from sklearn.metrics import classification_report, confusion_matrix\n",
        "from sklearn.datasets import fetch_openml\n",
        "from sklearn.preprocessing import LabelEncoder, OneHotEncoder\n",
        "from sklearn.compose import ColumnTransformer\n",
        "from sklearn.pipeline import Pipeline\n",
        "from sklearn.pipeline import make_pipeline\n",
        "from sklearn.kernel_approximation import Nystroem\n",
        "from sklearn.datasets import make_circles, fetch_openml\n",
        "from sklearn.metrics import accuracy_score\n",
        "from sklearn.compose import ColumnTransformer\n",
        "from sklearn.pipeline import Pipeline\n",
        "from sklearn.cluster import KMeans\n",
        "import matplotlib.pyplot as plt\n",
        "from sklearn.preprocessing import StandardScaler"
      ]
    },
    {
      "cell_type": "code",
      "source": [
        "datasets = {\n",
        "    'abalone': ('abalone', 'target'),\n",
        "    'image': ('segment', 'class'),\n",
        "    'pima': ('diabetes', 'class'),\n",
        "    'waveform': ('waveform-5000', 'class')\n",
        "}"
      ],
      "metadata": {
        "id": "ICUGGcbGOH9t"
      },
      "execution_count": null,
      "outputs": []
    },
    {
      "cell_type": "markdown",
      "source": [
        "# Abalone dataset"
      ],
      "metadata": {
        "id": "X0t-ZaCXHIUC"
      }
    },
    {
      "cell_type": "code",
      "source": [
        "from sklearn import svm\n",
        "from sklearn.model_selection import GridSearchCV\n",
        "from sklearn.datasets import fetch_openml\n",
        "from sklearn.preprocessing import LabelEncoder\n",
        "from sklearn.model_selection import train_test_split\n",
        "from sklearn.metrics import classification_report\n",
        "import pandas as pd\n",
        "\n",
        "data_name = 'abalone'\n",
        "print(f\"Processing dataset: {data_name}\")\n",
        "\n",
        "mode = 'SVM + RBF Kernel'\n",
        "print(f\"mode: {mode}\")\n",
        "\n",
        "try:\n",
        "    data = fetch_openml(name=data_name, as_frame=True, parser='auto')\n",
        "    X, y = data.data, data.target\n",
        "\n",
        "    label_encoder = LabelEncoder()\n",
        "    y_encoded = label_encoder.fit_transform(y)\n",
        "\n",
        "    X_encoded = pd.get_dummies(X, columns=['Sex'], drop_first=True)\n",
        "\n",
        "    X_train, X_test, y_train, y_test = train_test_split(X_encoded, y_encoded, test_size=0.3, random_state=42)\n",
        "\n",
        "    # Define the model and the parameters for grid search\n",
        "    svm_model = SVC(kernel='rbf')\n",
        "    param_grid = {'gamma': ['scale', 'auto'] + [0.01, 0.1, 1, 10, 100]}  # You can add more values for gamma\n",
        "\n",
        "    grid_search = GridSearchCV(svm_model, param_grid, cv=5)\n",
        "    grid_search.fit(X_train, y_train)\n",
        "\n",
        "    # Get the best gamma value\n",
        "    g = grid_search.best_params_['gamma']\n",
        "    print(f\"Best gamma found: {g}\")\n",
        "\n",
        "    # Use the best model to predict\n",
        "    y_pred = grid_search.predict(X_test)\n",
        "\n",
        "    print(classification_report(y_test, y_pred))\n",
        "    # print(confusion_matrix(y_test, y_pred))\n",
        "\n",
        "except Exception as e:\n",
        "    print(f\"Error processing {data_name}: {e}\")\n",
        "\n"
      ],
      "metadata": {
        "colab": {
          "base_uri": "https://localhost:8080/"
        },
        "id": "-vBEU8GekwR8",
        "outputId": "0449eb10-afb6-41b5-c66a-25144ad93b0b"
      },
      "execution_count": null,
      "outputs": [
        {
          "output_type": "stream",
          "name": "stdout",
          "text": [
            "Processing dataset: abalone\n",
            "mode: SVM + RBF Kernel\n"
          ]
        },
        {
          "output_type": "stream",
          "name": "stderr",
          "text": [
            "/usr/local/lib/python3.10/dist-packages/sklearn/datasets/_openml.py:311: UserWarning: Multiple active versions of the dataset matching the name abalone exist. Versions may be fundamentally different, returning version 1.\n",
            "  warn(\n",
            "/usr/local/lib/python3.10/dist-packages/sklearn/model_selection/_split.py:737: UserWarning: The least populated class in y has only 1 members, which is less than n_splits=5.\n",
            "  warnings.warn(\n"
          ]
        },
        {
          "output_type": "stream",
          "name": "stdout",
          "text": [
            "Best gamma found: 10\n",
            "              precision    recall  f1-score   support\n",
            "\n",
            "           1       0.22      0.45      0.29       191\n",
            "           2       0.29      0.22      0.25       137\n",
            "           3       0.14      0.01      0.02        84\n",
            "           4       0.00      0.00      0.00        53\n",
            "           5       0.00      0.00      0.00        34\n",
            "           6       0.00      0.00      0.00        31\n",
            "           7       0.00      0.00      0.00        21\n",
            "           8       0.00      0.00      0.00        14\n",
            "           9       0.00      0.00      0.00        15\n",
            "          10       0.00      0.00      0.00         8\n",
            "          12       0.00      0.00      0.00         6\n",
            "          13       0.00      0.00      0.00         3\n",
            "          14       0.00      0.00      0.00         3\n",
            "          15       0.00      0.00      0.00         5\n",
            "          21       0.00      0.00      0.00         3\n",
            "          22       0.48      0.68      0.57        19\n",
            "          23       0.62      0.18      0.28        45\n",
            "          24       0.36      0.45      0.40        77\n",
            "          25       0.39      0.36      0.37       129\n",
            "          26       0.36      0.37      0.36       164\n",
            "          27       0.26      0.40      0.31       212\n",
            "\n",
            "    accuracy                           0.29      1254\n",
            "   macro avg       0.15      0.15      0.14      1254\n",
            "weighted avg       0.26      0.29      0.25      1254\n",
            "\n"
          ]
        },
        {
          "output_type": "stream",
          "name": "stderr",
          "text": [
            "/usr/local/lib/python3.10/dist-packages/sklearn/metrics/_classification.py:1471: UndefinedMetricWarning: Precision and F-score are ill-defined and being set to 0.0 in labels with no predicted samples. Use `zero_division` parameter to control this behavior.\n",
            "  _warn_prf(average, modifier, msg_start, len(result))\n",
            "/usr/local/lib/python3.10/dist-packages/sklearn/metrics/_classification.py:1471: UndefinedMetricWarning: Precision and F-score are ill-defined and being set to 0.0 in labels with no predicted samples. Use `zero_division` parameter to control this behavior.\n",
            "  _warn_prf(average, modifier, msg_start, len(result))\n",
            "/usr/local/lib/python3.10/dist-packages/sklearn/metrics/_classification.py:1471: UndefinedMetricWarning: Precision and F-score are ill-defined and being set to 0.0 in labels with no predicted samples. Use `zero_division` parameter to control this behavior.\n",
            "  _warn_prf(average, modifier, msg_start, len(result))\n"
          ]
        }
      ]
    },
    {
      "cell_type": "code",
      "source": [
        "data_name = 'abalone'\n",
        "print(f\"Processing dataset: {data_name}\")\n",
        "\n",
        "\n",
        "mode = 'SVM + RBF Kernel'\n",
        "print(f\"mode: {mode}\")\n",
        "\n",
        "try:\n",
        "    data = fetch_openml(name=data_name, version=1, as_frame=True, parser='auto')\n",
        "    X, y = data.data, data.target\n",
        "\n",
        "    label_encoder = LabelEncoder()\n",
        "    y_encoded = label_encoder.fit_transform(y)\n",
        "\n",
        "    X_encoded = pd.get_dummies(X, columns=['Sex'], drop_first=True)\n",
        "\n",
        "    X_train, X_test, y_train, y_test = train_test_split(X_encoded, y_encoded, test_size=0.3, random_state=42)\n",
        "\n",
        "    svm_model = SVC(kernel='rbf', gamma='scale')\n",
        "    svm_model.fit(X_train, y_train)\n",
        "\n",
        "    y_pred = svm_model.predict(X_test)\n",
        "\n",
        "    print(classification_report(y_test, y_pred))\n",
        "    #print(confusion_matrix(y_test, y_pred))\n",
        "\n",
        "except Exception as e:\n",
        "    print(f\"Error processing {data_name}: {e}\")\n",
        "\n"
      ],
      "metadata": {
        "colab": {
          "base_uri": "https://localhost:8080/"
        },
        "id": "pUSc-TofHQac",
        "outputId": "86db30c4-c1b4-4a89-85f9-3b9faa5e89b8"
      },
      "execution_count": null,
      "outputs": [
        {
          "output_type": "stream",
          "name": "stdout",
          "text": [
            "Processing dataset: abalone\n",
            "mode: SVM + RBF Kernel\n",
            "              precision    recall  f1-score   support\n",
            "\n",
            "           1       0.25      0.35      0.29       191\n",
            "           2       0.27      0.23      0.25       137\n",
            "           3       0.00      0.00      0.00        84\n",
            "           4       0.00      0.00      0.00        53\n",
            "           5       0.00      0.00      0.00        34\n",
            "           6       0.00      0.00      0.00        31\n",
            "           7       0.00      0.00      0.00        21\n",
            "           8       0.00      0.00      0.00        14\n",
            "           9       0.00      0.00      0.00        15\n",
            "          10       0.00      0.00      0.00         8\n",
            "          12       0.00      0.00      0.00         6\n",
            "          13       0.00      0.00      0.00         3\n",
            "          14       0.00      0.00      0.00         3\n",
            "          15       0.00      0.00      0.00         5\n",
            "          21       0.00      0.00      0.00         3\n",
            "          22       0.17      0.05      0.08        19\n",
            "          23       0.00      0.00      0.00        45\n",
            "          24       0.28      0.49      0.36        77\n",
            "          25       0.35      0.24      0.29       129\n",
            "          26       0.38      0.35      0.36       164\n",
            "          27       0.24      0.56      0.34       212\n",
            "\n",
            "    accuracy                           0.28      1254\n",
            "   macro avg       0.09      0.11      0.09      1254\n",
            "weighted avg       0.21      0.28      0.23      1254\n",
            "\n"
          ]
        },
        {
          "output_type": "stream",
          "name": "stderr",
          "text": [
            "/usr/local/lib/python3.10/dist-packages/sklearn/metrics/_classification.py:1471: UndefinedMetricWarning: Precision and F-score are ill-defined and being set to 0.0 in labels with no predicted samples. Use `zero_division` parameter to control this behavior.\n",
            "  _warn_prf(average, modifier, msg_start, len(result))\n",
            "/usr/local/lib/python3.10/dist-packages/sklearn/metrics/_classification.py:1471: UndefinedMetricWarning: Precision and F-score are ill-defined and being set to 0.0 in labels with no predicted samples. Use `zero_division` parameter to control this behavior.\n",
            "  _warn_prf(average, modifier, msg_start, len(result))\n",
            "/usr/local/lib/python3.10/dist-packages/sklearn/metrics/_classification.py:1471: UndefinedMetricWarning: Precision and F-score are ill-defined and being set to 0.0 in labels with no predicted samples. Use `zero_division` parameter to control this behavior.\n",
            "  _warn_prf(average, modifier, msg_start, len(result))\n"
          ]
        }
      ]
    },
    {
      "cell_type": "code",
      "source": [
        "\n",
        "mode =  'RBFSampler approximation + SVM'\n",
        "print(f\"mode: {mode}\")\n",
        "\n",
        "\n",
        "from sklearn.kernel_approximation import RBFSampler\n",
        "from sklearn.pipeline import make_pipeline\n",
        "\n",
        "\n",
        "\n",
        "\n",
        "try:\n",
        "    data = fetch_openml(name=data_name, version=1, as_frame=True, parser='auto')\n",
        "    X, y = data.data, data.target\n",
        "\n",
        "    label_encoder = LabelEncoder()\n",
        "    y_encoded = label_encoder.fit_transform(y)\n",
        "\n",
        "    # One-hot encode the 'sex' feature\n",
        "    X_encoded = pd.get_dummies(X, columns=['Sex'], drop_first=True)\n",
        "\n",
        "    X_train, X_test, y_train, y_test = train_test_split(X_encoded, y_encoded, test_size=0.3, random_state=42)\n",
        "\n",
        "    # Create an RBFSampler for approximating the RBF kernel\n",
        "    rbf_sampler = RBFSampler(gamma=10.0, n_components=100, random_state=42)\n",
        "\n",
        "    # Create a pipeline with scaling and SVM\n",
        "    svm_pipeline = make_pipeline(StandardScaler(), rbf_sampler, SVC(kernel='linear'))\n",
        "\n",
        "    svm_pipeline.fit(X_train, y_train)\n",
        "\n",
        "    y_pred = svm_pipeline.predict(X_test)\n",
        "\n",
        "    print(classification_report(y_test, y_pred))\n",
        "    #print(confusion_matrix(y_test, y_pred))\n",
        "\n",
        "except Exception as e:\n",
        "    print(f\"Error processing {data_name}: {e}\")\n",
        "\n"
      ],
      "metadata": {
        "colab": {
          "base_uri": "https://localhost:8080/"
        },
        "id": "ESZLk9VkJ9Uo",
        "outputId": "b41ade6e-fd75-44a5-dd6e-ed1dbcfd71d7"
      },
      "execution_count": null,
      "outputs": [
        {
          "output_type": "stream",
          "name": "stdout",
          "text": [
            "mode: RBFSampler approximation + SVM\n",
            "              precision    recall  f1-score   support\n",
            "\n",
            "           1       0.17      0.31      0.22       191\n",
            "           2       0.17      0.17      0.17       137\n",
            "           3       0.00      0.00      0.00        84\n",
            "           4       0.00      0.00      0.00        53\n",
            "           5       0.00      0.00      0.00        34\n",
            "           6       0.00      0.00      0.00        31\n",
            "           7       0.00      0.00      0.00        21\n",
            "           8       0.00      0.00      0.00        14\n",
            "           9       0.00      0.00      0.00        15\n",
            "          10       0.00      0.00      0.00         8\n",
            "          12       0.00      0.00      0.00         6\n",
            "          13       0.00      0.00      0.00         3\n",
            "          14       0.00      0.00      0.00         3\n",
            "          15       0.00      0.00      0.00         5\n",
            "          21       0.00      0.00      0.00         3\n",
            "          22       0.36      0.42      0.39        19\n",
            "          23       0.32      0.13      0.19        45\n",
            "          24       0.30      0.32      0.31        77\n",
            "          25       0.31      0.22      0.26       129\n",
            "          26       0.15      0.18      0.16       164\n",
            "          27       0.18      0.30      0.22       212\n",
            "\n",
            "    accuracy                           0.19      1254\n",
            "   macro avg       0.09      0.10      0.09      1254\n",
            "weighted avg       0.16      0.19      0.17      1254\n",
            "\n"
          ]
        },
        {
          "output_type": "stream",
          "name": "stderr",
          "text": [
            "/usr/local/lib/python3.10/dist-packages/sklearn/metrics/_classification.py:1471: UndefinedMetricWarning: Precision and F-score are ill-defined and being set to 0.0 in labels with no predicted samples. Use `zero_division` parameter to control this behavior.\n",
            "  _warn_prf(average, modifier, msg_start, len(result))\n",
            "/usr/local/lib/python3.10/dist-packages/sklearn/metrics/_classification.py:1471: UndefinedMetricWarning: Precision and F-score are ill-defined and being set to 0.0 in labels with no predicted samples. Use `zero_division` parameter to control this behavior.\n",
            "  _warn_prf(average, modifier, msg_start, len(result))\n",
            "/usr/local/lib/python3.10/dist-packages/sklearn/metrics/_classification.py:1471: UndefinedMetricWarning: Precision and F-score are ill-defined and being set to 0.0 in labels with no predicted samples. Use `zero_division` parameter to control this behavior.\n",
            "  _warn_prf(average, modifier, msg_start, len(result))\n"
          ]
        }
      ]
    },
    {
      "cell_type": "code",
      "source": [
        "mode = 'Nystroem approximation + SVM'\n",
        "print(f\"mode: {mode}\")\n",
        "\n",
        "try:\n",
        "    data = fetch_openml(name=data_name, version=1, as_frame=True, parser='auto')\n",
        "    X, y = data.data, data.target\n",
        "\n",
        "    label_encoder = LabelEncoder()\n",
        "    y_encoded = label_encoder.fit_transform(y)\n",
        "\n",
        "    # One-hot encode the 'sex' feature\n",
        "    X_encoded = pd.get_dummies(X, columns=['Sex'], drop_first=True)\n",
        "\n",
        "    X_train, X_test, y_train, y_test = train_test_split(X_encoded, y_encoded, test_size=0.3, random_state=42)\n",
        "\n",
        "    nystroem = Nystroem(kernel='rbf', gamma=10, n_components=100, random_state=42)\n",
        "\n",
        "    svm_model = make_pipeline(StandardScaler(), nystroem, SVC(kernel='linear'))\n",
        "\n",
        "    svm_model.fit(X_train, y_train)\n",
        "    y_pred = svm_model.predict(X_test)\n",
        "\n",
        "    print(classification_report(y_test, y_pred))\n",
        "    #print(confusion_matrix(y_test, y_pred))\n",
        "\n",
        "except Exception as e:\n",
        "    print(f\"Error processing {data_name}: {e}\")"
      ],
      "metadata": {
        "colab": {
          "base_uri": "https://localhost:8080/"
        },
        "id": "VXmkSwU0KljO",
        "outputId": "484487fb-8f18-4454-cb7c-472c274173e5"
      },
      "execution_count": null,
      "outputs": [
        {
          "output_type": "stream",
          "name": "stdout",
          "text": [
            "mode: Nystroem approximation + SVM\n",
            "              precision    recall  f1-score   support\n",
            "\n",
            "           1       0.11      0.01      0.02       191\n",
            "           2       0.00      0.00      0.00       137\n",
            "           3       0.00      0.00      0.00        84\n",
            "           4       0.00      0.00      0.00        53\n",
            "           5       0.00      0.00      0.00        34\n",
            "           6       0.00      0.00      0.00        31\n",
            "           7       0.00      0.00      0.00        21\n",
            "           8       0.00      0.00      0.00        14\n",
            "           9       0.00      0.00      0.00        15\n",
            "          10       0.00      0.00      0.00         8\n",
            "          12       0.00      0.00      0.00         6\n",
            "          13       0.00      0.00      0.00         3\n",
            "          14       0.00      0.00      0.00         3\n",
            "          15       0.00      0.00      0.00         5\n",
            "          21       0.00      0.00      0.00         3\n",
            "          22       0.38      0.32      0.34        19\n",
            "          23       0.31      0.11      0.16        45\n",
            "          24       0.36      0.35      0.36        77\n",
            "          25       0.39      0.18      0.24       129\n",
            "          26       0.32      0.11      0.16       164\n",
            "          27       0.19      0.91      0.32       212\n",
            "\n",
            "    accuracy                           0.22      1254\n",
            "   macro avg       0.10      0.09      0.08      1254\n",
            "weighted avg       0.17      0.22      0.14      1254\n",
            "\n"
          ]
        },
        {
          "output_type": "stream",
          "name": "stderr",
          "text": [
            "/usr/local/lib/python3.10/dist-packages/sklearn/metrics/_classification.py:1471: UndefinedMetricWarning: Precision and F-score are ill-defined and being set to 0.0 in labels with no predicted samples. Use `zero_division` parameter to control this behavior.\n",
            "  _warn_prf(average, modifier, msg_start, len(result))\n",
            "/usr/local/lib/python3.10/dist-packages/sklearn/metrics/_classification.py:1471: UndefinedMetricWarning: Precision and F-score are ill-defined and being set to 0.0 in labels with no predicted samples. Use `zero_division` parameter to control this behavior.\n",
            "  _warn_prf(average, modifier, msg_start, len(result))\n",
            "/usr/local/lib/python3.10/dist-packages/sklearn/metrics/_classification.py:1471: UndefinedMetricWarning: Precision and F-score are ill-defined and being set to 0.0 in labels with no predicted samples. Use `zero_division` parameter to control this behavior.\n",
            "  _warn_prf(average, modifier, msg_start, len(result))\n"
          ]
        }
      ]
    },
    {
      "cell_type": "markdown",
      "source": [
        "#  pima dataset"
      ],
      "metadata": {
        "id": "DW-48fdPKzDB"
      }
    },
    {
      "cell_type": "code",
      "source": [
        "from sklearn import svm\n",
        "from sklearn.model_selection import GridSearchCV\n",
        "from sklearn.datasets import fetch_openml\n",
        "from sklearn.preprocessing import LabelEncoder\n",
        "from sklearn.model_selection import train_test_split\n",
        "from sklearn.metrics import classification_report, confusion_matrix\n",
        "import pandas as pd\n",
        "\n",
        "datasets = {\n",
        "    'abalone': ('abalone', 'target'),\n",
        "    'image': ('segment', 'class'),\n",
        "    'pima': ('diabetes', 'class'),\n",
        "    'waveform': ('waveform-5000', 'class')\n",
        "}\n",
        "\n",
        "data_name = 'pima'\n",
        "print(f\"Processing dataset: {data_name}\")\n",
        "results_list = []\n",
        "\n",
        "try:\n",
        "    # Fetch the dataset\n",
        "    data = fetch_openml(name='diabetes', as_frame=True, parser='auto')\n",
        "    X, y = data.data, data.target\n",
        "\n",
        "    # Split the dataset\n",
        "    X_train, X_test, y_train, y_test = train_test_split(X, y, test_size=0.3, random_state=42)\n",
        "\n",
        "    # Define the SVM model and the parameters for grid search\n",
        "    svm_model = SVC(kernel='rbf')\n",
        "    param_grid = {'gamma': ['scale', 'auto'] + [0.01, 0.1, 1, 10, 100]}  # You can add more values for gamma\n",
        "\n",
        "    grid_search = GridSearchCV(svm_model, param_grid, cv=5)\n",
        "    grid_search.fit(X_train, y_train)\n",
        "\n",
        "    # Get the best gamma value\n",
        "    g = grid_search.best_params_['gamma']\n",
        "    print(f\"Best gamma found: {g}\")\n",
        "\n",
        "    # Use the best model to predict\n",
        "    y_pred = grid_search.predict(X_test)\n",
        "\n",
        "    # Output evaluation metrics\n",
        "    print(classification_report(y_test, y_pred))\n",
        "    print(confusion_matrix(y_test, y_pred))\n",
        "\n",
        "    # Store results\n",
        "    results_list.append((data_name, classification_report(y_test, y_pred, output_dict=True), confusion_matrix(y_test, y_pred)))\n",
        "\n",
        "except Exception as e:\n",
        "    print(f\"Error processing {data_name}: {e}\")\n"
      ],
      "metadata": {
        "colab": {
          "base_uri": "https://localhost:8080/"
        },
        "id": "k-Qscs7pAgEj",
        "outputId": "1878f9a9-2d03-449e-ec86-42833b470310"
      },
      "execution_count": null,
      "outputs": [
        {
          "output_type": "stream",
          "name": "stdout",
          "text": [
            "Processing dataset: pima\n"
          ]
        },
        {
          "output_type": "stream",
          "name": "stderr",
          "text": [
            "/usr/local/lib/python3.10/dist-packages/sklearn/datasets/_openml.py:311: UserWarning: Multiple active versions of the dataset matching the name diabetes exist. Versions may be fundamentally different, returning version 1.\n",
            "  warn(\n"
          ]
        },
        {
          "output_type": "stream",
          "name": "stdout",
          "text": [
            "Best gamma found: scale\n",
            "                 precision    recall  f1-score   support\n",
            "\n",
            "tested_negative       0.76      0.87      0.81       151\n",
            "tested_positive       0.66      0.49      0.56        80\n",
            "\n",
            "       accuracy                           0.74       231\n",
            "      macro avg       0.71      0.68      0.69       231\n",
            "   weighted avg       0.73      0.74      0.72       231\n",
            "\n",
            "[[131  20]\n",
            " [ 41  39]]\n"
          ]
        }
      ]
    },
    {
      "cell_type": "code",
      "source": [
        "datasets = {\n",
        "    'abalone': ('abalone', 'target'),\n",
        "    'image': ('segment', 'class'),\n",
        "    'pima': ('diabetes', 'class'),\n",
        "    'waveform': ('waveform-5000', 'class')\n",
        "}\n",
        "\n",
        "\n",
        "data_name = 'pima'\n",
        "print(f\"Processing dataset: {data_name}\")\n",
        "results_list = []\n",
        "\n",
        "\n",
        "try:\n",
        "\n",
        "      data = fetch_openml(name='diabetes', version=1, as_frame=True, parser='auto')\n",
        "      X, y = data.data, data.target\n",
        "\n",
        "\n",
        "      X_train, X_test, y_train, y_test = train_test_split(X, y, test_size=0.3, random_state=42)\n",
        "\n",
        "      svm_model = SVC(kernel='rbf', gamma='scale')\n",
        "      svm_model.fit(X_train, y_train)\n",
        "\n",
        "      y_pred = svm_model.predict(X_test)\n",
        "\n",
        "      # Output evaluation metrics\n",
        "      print(classification_report(y_test, y_pred))\n",
        "      #print(confusion_matrix(y_test, y_pred))\n",
        "\n",
        "      kernel_matrix = svm_model.decision_function(X_test)\n",
        "      #print(\"Kernel matrix (decision function values):\")\n",
        "      #print(kernel_matrix)\n",
        "\n",
        "      results_list.append((dataset_name, classification_report(y_test, y_pred, output_dict=True), confusion_matrix(y_test, y_pred)))\n",
        "\n",
        "except Exception as e:\n",
        "      print(f\"Error processing {data_name}: {e}\")\n",
        "\n",
        "\n"
      ],
      "metadata": {
        "colab": {
          "base_uri": "https://localhost:8080/"
        },
        "id": "O5xBZB69K0ub",
        "outputId": "b2cf02fe-6158-4487-9f47-18a4dafe21ca"
      },
      "execution_count": null,
      "outputs": [
        {
          "output_type": "stream",
          "name": "stdout",
          "text": [
            "Processing dataset: pima\n",
            "                 precision    recall  f1-score   support\n",
            "\n",
            "tested_negative       0.76      0.87      0.81       151\n",
            "tested_positive       0.66      0.49      0.56        80\n",
            "\n",
            "       accuracy                           0.74       231\n",
            "      macro avg       0.71      0.68      0.69       231\n",
            "   weighted avg       0.73      0.74      0.72       231\n",
            "\n",
            "Error processing pima: name 'dataset_name' is not defined\n"
          ]
        }
      ]
    },
    {
      "cell_type": "code",
      "source": [
        "mode =  'RBFSampler approximation + SVM'\n",
        "print(f\"mode: {mode}\")\n",
        "\n",
        "from sklearn.kernel_approximation import RBFSampler\n",
        "try:\n",
        "\n",
        "        data = fetch_openml(name='diabetes', version=1, as_frame=True, parser='auto')\n",
        "        X, y = data.data, data.target\n",
        "\n",
        "        X_train, X_test, y_train, y_test = train_test_split(X, y, test_size=0.3, random_state=42)\n",
        "\n",
        "        rbf_sampler = RBFSampler(gamma='scale', n_components=100, random_state=42)\n",
        "        svm_pipeline = make_pipeline(StandardScaler(), rbf_sampler, SVC(kernel='linear'))\n",
        "\n",
        "        svm_pipeline.fit(X_train, y_train)\n",
        "        y_pred = svm_pipeline.predict(X_test)\n",
        "\n",
        "        print(classification_report(y_test, y_pred))\n",
        "        #print(confusion_matrix(y_test, y_pred))\n",
        "\n",
        "        results_list.append((data_name, classification_report(y_test, y_pred, output_dict=True), confusion_matrix(y_test, y_pred)))\n",
        "\n",
        "except Exception as e:\n",
        "        print(f\"Error processing {data_name}: {e}\")\n"
      ],
      "metadata": {
        "colab": {
          "base_uri": "https://localhost:8080/"
        },
        "id": "xFi2yOgsOWpj",
        "outputId": "3fb6dff2-e06e-45be-8421-799181e644e1"
      },
      "execution_count": null,
      "outputs": [
        {
          "output_type": "stream",
          "name": "stdout",
          "text": [
            "mode: RBFSampler approximation + SVM\n",
            "                 precision    recall  f1-score   support\n",
            "\n",
            "tested_negative       0.77      0.83      0.80       151\n",
            "tested_positive       0.63      0.53      0.57        80\n",
            "\n",
            "       accuracy                           0.73       231\n",
            "      macro avg       0.70      0.68      0.69       231\n",
            "   weighted avg       0.72      0.73      0.72       231\n",
            "\n"
          ]
        }
      ]
    },
    {
      "cell_type": "code",
      "source": [
        "mode = 'Nystroem approximation + SVM'\n",
        "print(f\"mode: {mode}\")\n",
        "\n",
        "try:\n",
        "        # Load data\n",
        "        data = fetch_openml(name='diabetes', version=1, as_frame=True, parser='auto')\n",
        "        X, y = data.data, data.target\n",
        "\n",
        "\n",
        "\n",
        "        X_train, X_test, y_train, y_test = train_test_split(X, y, test_size=0.3, random_state=42)\n",
        "\n",
        "        nystroem = Nystroem(kernel='rbf', gamma='scale', n_components=100, random_state=42)\n",
        "        svm_model = make_pipeline(StandardScaler(), nystroem, SVC(kernel='linear'))\n",
        "        svm_pipeline.fit(X_train, y_train)\n",
        "\n",
        "        y_pred = svm_pipeline.predict(X_test)\n",
        "        print(classification_report(y_test, y_pred))\n",
        "        #print(confusion_matrix(y_test, y_pred))\n",
        "\n",
        "        results_list.append((data_name, classification_report(y_test, y_pred, output_dict=True), confusion_matrix(y_test, y_pred)))\n",
        "\n",
        "except Exception as e:\n",
        "        print(f\"Error processing {data_name}: {e}\")\n"
      ],
      "metadata": {
        "colab": {
          "base_uri": "https://localhost:8080/"
        },
        "id": "tgKSo844QBi9",
        "outputId": "0f8a075f-b978-4923-84db-4a91d4c5a0d7"
      },
      "execution_count": null,
      "outputs": [
        {
          "output_type": "stream",
          "name": "stdout",
          "text": [
            "mode: Nystroem approximation + SVM\n",
            "                 precision    recall  f1-score   support\n",
            "\n",
            "tested_negative       0.77      0.83      0.80       151\n",
            "tested_positive       0.63      0.53      0.57        80\n",
            "\n",
            "       accuracy                           0.73       231\n",
            "      macro avg       0.70      0.68      0.69       231\n",
            "   weighted avg       0.72      0.73      0.72       231\n",
            "\n"
          ]
        }
      ]
    },
    {
      "cell_type": "markdown",
      "source": [
        "# image dataset"
      ],
      "metadata": {
        "id": "BuQkoT_J0s3_"
      }
    },
    {
      "cell_type": "code",
      "source": [
        "data = fetch_openml(name=data_name, version=1, as_frame=True, parser='auto')\n",
        "\n",
        "print(f\"X shape: {X.shape}, y shape: {y.shape}\")\n"
      ],
      "metadata": {
        "colab": {
          "base_uri": "https://localhost:8080/"
        },
        "id": "WglqqUD3Yp5h",
        "outputId": "5b730ec0-751b-4a8c-d818-609331bcd3d9"
      },
      "execution_count": null,
      "outputs": [
        {
          "output_type": "stream",
          "name": "stderr",
          "text": [
            "/usr/local/lib/python3.10/dist-packages/sklearn/datasets/_openml.py:999: UserWarning: Version 1 of dataset pima is inactive, meaning that issues have been found in the dataset. Try using a newer version from this URL: https://api.openml.org/data/v1/download/4965316/pima.arff\n",
            "  warn(\n"
          ]
        },
        {
          "output_type": "stream",
          "name": "stdout",
          "text": [
            "X shape: (768, 8), y shape: (768,)\n"
          ]
        }
      ]
    },
    {
      "cell_type": "code",
      "source": [
        "from sklearn import svm\n",
        "from sklearn.model_selection import GridSearchCV\n",
        "from sklearn.datasets import fetch_openml\n",
        "from sklearn.model_selection import train_test_split\n",
        "from sklearn.metrics import classification_report, confusion_matrix\n",
        "\n",
        "data_name = 'image'\n",
        "print(f\"Processing dataset: {data_name}\")\n",
        "results_list = []\n",
        "\n",
        "try:\n",
        "    # Fetch the dataset\n",
        "    data = fetch_openml(name='segment', as_frame=True, parser='auto')\n",
        "    X, y = data.data, data.target.squeeze()\n",
        "\n",
        "    # Split the dataset\n",
        "    X_train, X_test, y_train, y_test = train_test_split(X, y, test_size=0.3, random_state=42)\n",
        "\n",
        "    # Define the SVM model and the parameters for grid search\n",
        "    svm_model = SVC(kernel='rbf')\n",
        "    param_grid = {'gamma': ['scale', 'auto'] + [0.01, 0.1, 1, 10, 100]}  # You can add more values for gamma\n",
        "\n",
        "    grid_search = GridSearchCV(svm_model, param_grid, cv=5)\n",
        "    grid_search.fit(X_train, y_train)\n",
        "\n",
        "    # Get the best gamma value\n",
        "    g = grid_search.best_params_['gamma']\n",
        "    print(f\"Best gamma found: {g}\")\n",
        "\n",
        "    # Use the best model to predict\n",
        "    y_pred = grid_search.predict(X_test)\n",
        "\n",
        "    # Output evaluation metrics\n",
        "    print(classification_report(y_test, y_pred))\n",
        "    print(confusion_matrix(y_test, y_pred))\n",
        "\n",
        "    # Store results\n",
        "    results_list.append((data_name, classification_report(y_test, y_pred, output_dict=True), confusion_matrix(y_test, y_pred)))\n",
        "\n",
        "except Exception as e:\n",
        "    print(f\"Error processing {data_name}: {e}\")\n"
      ],
      "metadata": {
        "colab": {
          "base_uri": "https://localhost:8080/"
        },
        "id": "iSLtv0NHxkze",
        "outputId": "5cd6919c-850f-455d-a10a-9ba26dd2e349"
      },
      "execution_count": null,
      "outputs": [
        {
          "output_type": "stream",
          "name": "stdout",
          "text": [
            "Processing dataset: image\n"
          ]
        },
        {
          "output_type": "stream",
          "name": "stderr",
          "text": [
            "/usr/local/lib/python3.10/dist-packages/sklearn/datasets/_openml.py:311: UserWarning: Multiple active versions of the dataset matching the name segment exist. Versions may be fundamentally different, returning version 1.\n",
            "  warn(\n"
          ]
        },
        {
          "output_type": "stream",
          "name": "stdout",
          "text": [
            "Best gamma found: 0.01\n",
            "              precision    recall  f1-score   support\n",
            "\n",
            "   brickface       0.99      0.91      0.95        86\n",
            "      cement       0.53      0.98      0.69       103\n",
            "     foliage       0.93      0.68      0.79       111\n",
            "       grass       1.00      0.84      0.91        95\n",
            "        path       1.00      0.84      0.91        99\n",
            "         sky       1.00      0.89      0.94        89\n",
            "      window       0.90      0.81      0.85       110\n",
            "\n",
            "    accuracy                           0.85       693\n",
            "   macro avg       0.91      0.85      0.86       693\n",
            "weighted avg       0.90      0.85      0.86       693\n",
            "\n",
            "[[ 78   7   1   0   0   0   0]\n",
            " [  1 101   0   0   0   0   1]\n",
            " [  0  26  76   0   0   0   9]\n",
            " [  0  15   0  80   0   0   0]\n",
            " [  0  16   0   0  83   0   0]\n",
            " [  0  10   0   0   0  79   0]\n",
            " [  0  16   5   0   0   0  89]]\n"
          ]
        }
      ]
    },
    {
      "cell_type": "code",
      "source": [
        "data_name = 'image'\n",
        "print(f\"Processing dataset: {data_name}\")\n",
        "results_list = []\n",
        "\n",
        "\n",
        "\n",
        "\n",
        "try:\n",
        "      data = fetch_openml(name='segment', as_frame=True, parser='auto')\n",
        "      X, y = data.data, data.target.squeeze()\n",
        "\n",
        "      X_train, X_test, y_train, y_test = train_test_split(X, y, test_size=0.3, random_state=42)\n",
        "\n",
        "      svm_model = SVC(kernel='rbf', gamma='scale')\n",
        "      svm_model.fit(X_train, y_train)\n",
        "\n",
        "      y_pred = svm_model.predict(X_test)\n",
        "\n",
        "      # Output evaluation metrics\n",
        "      print(classification_report(y_test, y_pred))\n",
        "      #print(confusion_matrix(y_test, y_pred))\n",
        "\n",
        "      kernel_matrix = svm_model.decision_function(X_test)\n",
        "      #print(\"Kernel matrix (decision function values):\")\n",
        "      #print(kernel_matrix)\n",
        "\n",
        "      results_list.append((dataset_name, classification_report(y_test, y_pred, output_dict=True), confusion_matrix(y_test, y_pred)))\n",
        "\n",
        "except Exception as e:\n",
        "      print(f\"Error processing {data_name}: {e}\")\n",
        "\n",
        "\n"
      ],
      "metadata": {
        "colab": {
          "base_uri": "https://localhost:8080/"
        },
        "id": "z17RgrJziuUr",
        "outputId": "4579424d-c798-45c4-b31b-16b2b52e56ef"
      },
      "execution_count": null,
      "outputs": [
        {
          "output_type": "stream",
          "name": "stdout",
          "text": [
            "Processing dataset: image\n",
            "              precision    recall  f1-score   support\n",
            "\n",
            "   brickface       0.89      0.73      0.80        86\n",
            "      cement       0.91      0.87      0.89       103\n",
            "     foliage       0.69      0.85      0.76       111\n",
            "       grass       0.99      1.00      0.99        95\n",
            "        path       0.99      1.00      0.99        99\n",
            "         sky       1.00      1.00      1.00        89\n",
            "      window       0.71      0.65      0.68       110\n",
            "\n",
            "    accuracy                           0.87       693\n",
            "   macro avg       0.88      0.87      0.87       693\n",
            "weighted avg       0.87      0.87      0.87       693\n",
            "\n",
            "Error processing image: name 'dataset_name' is not defined\n"
          ]
        },
        {
          "output_type": "stream",
          "name": "stderr",
          "text": [
            "/usr/local/lib/python3.10/dist-packages/sklearn/datasets/_openml.py:311: UserWarning: Multiple active versions of the dataset matching the name segment exist. Versions may be fundamentally different, returning version 1.\n",
            "  warn(\n"
          ]
        }
      ]
    },
    {
      "cell_type": "code",
      "source": [
        "mode =  'RBFSampler approximation + SVM'\n",
        "print(f\"mode: {mode}\")\n",
        "\n",
        "from sklearn.kernel_approximation import RBFSampler\n",
        "try:\n",
        "        data = fetch_openml(name='segment', version=1, as_frame=True, parser='auto')\n",
        "        X, y = data.data, data.target\n",
        "\n",
        "\n",
        "        X_train, X_test, y_train, y_test = train_test_split(X, y, test_size=0.3, random_state=42)\n",
        "        rbf_sampler = RBFSampler(gamma=0.01, n_components=100, random_state=42)\n",
        "\n",
        "        svm_pipeline = make_pipeline(StandardScaler(), rbf_sampler, SVC(kernel='linear'))\n",
        "        svm_pipeline.fit(X_train, y_train)\n",
        "        y_pred = svm_pipeline.predict(X_test)\n",
        "\n",
        "        # Output evaluation metrics\n",
        "        print(classification_report(y_test, y_pred))\n",
        "        #print(confusion_matrix(y_test, y_pred))\n",
        "\n",
        "        results_list.append((data_name, classification_report(y_test, y_pred, output_dict=True), confusion_matrix(y_test, y_pred)))\n",
        "\n",
        "except Exception as e:\n",
        "        print(f\"Error processing {data_name}: {e}\")\n"
      ],
      "metadata": {
        "colab": {
          "base_uri": "https://localhost:8080/"
        },
        "id": "KFeoBlT202Ij",
        "outputId": "343677a1-8fb2-4a69-870c-5465c25be1db"
      },
      "execution_count": null,
      "outputs": [
        {
          "output_type": "stream",
          "name": "stdout",
          "text": [
            "mode: RBFSampler approximation + SVM\n",
            "              precision    recall  f1-score   support\n",
            "\n",
            "   brickface       0.95      0.98      0.97        86\n",
            "      cement       0.82      0.86      0.84       103\n",
            "     foliage       0.76      0.83      0.79       111\n",
            "       grass       1.00      0.99      0.99        95\n",
            "        path       0.92      0.99      0.95        99\n",
            "         sky       1.00      1.00      1.00        89\n",
            "      window       0.79      0.62      0.69       110\n",
            "\n",
            "    accuracy                           0.89       693\n",
            "   macro avg       0.89      0.90      0.89       693\n",
            "weighted avg       0.88      0.89      0.88       693\n",
            "\n"
          ]
        }
      ]
    },
    {
      "cell_type": "code",
      "source": [
        "mode = 'Nystroem approximation + SVM'\n",
        "print(f\"mode: {mode}\")\n",
        "\n",
        "try:\n",
        "        data = fetch_openml(name='segment', version=1, as_frame=True, parser='auto')\n",
        "        X, y = data.data, data.target\n",
        "\n",
        "\n",
        "        X_train, X_test, y_train, y_test = train_test_split(X, y, test_size=0.3, random_state=42)\n",
        "        nystroem = Nystroem(kernel='rbf', gamma=0.01, n_components=100, random_state=42)\n",
        "        svm_model = make_pipeline(StandardScaler(), nystroem, SVC(kernel='linear'))\n",
        "        svm_pipeline.fit(X_train, y_train)\n",
        "        y_pred = svm_pipeline.predict(X_test)\n",
        "\n",
        "        # Output evaluation metrics\n",
        "        print(classification_report(y_test, y_pred))\n",
        "        #print(confusion_matrix(y_test, y_pred))\n",
        "\n",
        "        results_list.append((data_name, classification_report(y_test, y_pred, output_dict=True), confusion_matrix(y_test, y_pred)))\n",
        "\n",
        "except Exception as e:\n",
        "        print(f\"Error processing {data_name}: {e}\")\n"
      ],
      "metadata": {
        "colab": {
          "base_uri": "https://localhost:8080/"
        },
        "id": "U7pcLfYD2PxA",
        "outputId": "08bc1a84-82f3-4fb0-de72-52bb113d0a82"
      },
      "execution_count": null,
      "outputs": [
        {
          "output_type": "stream",
          "name": "stdout",
          "text": [
            "mode: Nystroem approximation + SVM\n",
            "              precision    recall  f1-score   support\n",
            "\n",
            "   brickface       0.95      0.98      0.97        86\n",
            "      cement       0.82      0.86      0.84       103\n",
            "     foliage       0.76      0.83      0.79       111\n",
            "       grass       1.00      0.99      0.99        95\n",
            "        path       0.92      0.99      0.95        99\n",
            "         sky       1.00      1.00      1.00        89\n",
            "      window       0.79      0.62      0.69       110\n",
            "\n",
            "    accuracy                           0.89       693\n",
            "   macro avg       0.89      0.90      0.89       693\n",
            "weighted avg       0.88      0.89      0.88       693\n",
            "\n"
          ]
        }
      ]
    },
    {
      "cell_type": "markdown",
      "source": [
        "# waveform dataset"
      ],
      "metadata": {
        "id": "TgA37HEiaHOW"
      }
    },
    {
      "cell_type": "code",
      "source": [
        "from sklearn import svm\n",
        "from sklearn.model_selection import GridSearchCV\n",
        "from sklearn.datasets import fetch_openml\n",
        "from sklearn.model_selection import train_test_split\n",
        "from sklearn.metrics import classification_report, confusion_matrix\n",
        "\n",
        "data_name = 'waveform'\n",
        "print(f\"Processing dataset: {data_name}\")\n",
        "results_list = []\n",
        "\n",
        "try:\n",
        "    # Fetch the dataset\n",
        "    data = fetch_openml(name='waveform-5000', as_frame=True, parser='auto')\n",
        "    X, y = data.data, data.target.squeeze()\n",
        "\n",
        "    # Split the dataset\n",
        "    X_train, X_test, y_train, y_test = train_test_split(X, y, test_size=0.3, random_state=42)\n",
        "\n",
        "    # Define the SVM model and the parameters for grid search\n",
        "    svm_model = SVC(kernel='rbf')\n",
        "    param_grid = {'gamma': ['scale', 'auto'] + [0.01, 0.1, 1, 10, 100]}  # You can add more values for gamma\n",
        "\n",
        "    grid_search = GridSearchCV(svm_model, param_grid, cv=5)\n",
        "    grid_search.fit(X_train, y_train)\n",
        "\n",
        "    # Get the best gamma value\n",
        "    g = grid_search.best_params_['gamma']\n",
        "    print(f\"Best gamma found: {g}\")\n",
        "\n",
        "    # Use the best model to predict\n",
        "    y_pred = grid_search.predict(X_test)\n",
        "\n",
        "    # Output evaluation metrics\n",
        "    print(classification_report(y_test, y_pred))\n",
        "    print(confusion_matrix(y_test, y_pred))\n",
        "\n",
        "    # Store results\n",
        "    results_list.append((data_name, classification_report(y_test, y_pred, output_dict=True), confusion_matrix(y_test, y_pred)))\n",
        "\n",
        "except Exception as e:\n",
        "    print(f\"Error processing {data_name}: {e}\")\n"
      ],
      "metadata": {
        "colab": {
          "base_uri": "https://localhost:8080/"
        },
        "id": "gNbjC4kmx-M4",
        "outputId": "45c185bf-a4f5-4017-83c6-f51bb079d1e9"
      },
      "execution_count": null,
      "outputs": [
        {
          "output_type": "stream",
          "name": "stdout",
          "text": [
            "Processing dataset: waveform\n"
          ]
        },
        {
          "output_type": "stream",
          "name": "stderr",
          "text": [
            "/usr/local/lib/python3.10/dist-packages/sklearn/datasets/_openml.py:311: UserWarning: Multiple active versions of the dataset matching the name waveform-5000 exist. Versions may be fundamentally different, returning version 1.\n",
            "  warn(\n"
          ]
        },
        {
          "output_type": "stream",
          "name": "stdout",
          "text": [
            "Best gamma found: scale\n",
            "              precision    recall  f1-score   support\n",
            "\n",
            "           0       0.88      0.85      0.87       513\n",
            "           1       0.87      0.90      0.88       481\n",
            "           2       0.88      0.87      0.88       506\n",
            "\n",
            "    accuracy                           0.88      1500\n",
            "   macro avg       0.88      0.88      0.88      1500\n",
            "weighted avg       0.88      0.88      0.88      1500\n",
            "\n",
            "[[438  36  39]\n",
            " [ 26 434  21]\n",
            " [ 34  31 441]]\n"
          ]
        }
      ]
    },
    {
      "cell_type": "code",
      "source": [
        "data_name = 'waveform'\n",
        "print(f\"Processing dataset: {data_name}\")\n",
        "results_list = []\n",
        "\n",
        "\n",
        "\n",
        "\n",
        "try:\n",
        "      data = fetch_openml(name='waveform-5000', as_frame=True, parser='auto')\n",
        "      X, y = data.data, data.target.squeeze()\n",
        "\n",
        "      X_train, X_test, y_train, y_test = train_test_split(X, y, test_size=0.3, random_state=42)\n",
        "\n",
        "      svm_model = SVC(kernel='rbf', gamma='0.1')\n",
        "      svm_model.fit(X_train, y_train)\n",
        "\n",
        "      y_pred = svm_model.predict(X_test)\n",
        "\n",
        "      # Output evaluation metrics\n",
        "      print(classification_report(y_test, y_pred))\n",
        "      #print(confusion_matrix(y_test, y_pred))\n",
        "\n",
        "      kernel_matrix = svm_model.decision_function(X_test)\n",
        "      #print(\"Kernel matrix (decision function values):\")\n",
        "      #print(kernel_matrix)\n",
        "\n",
        "      results_list.append((dataset_name, classification_report(y_test, y_pred, output_dict=True), confusion_matrix(y_test, y_pred)))\n",
        "\n",
        "except Exception as e:\n",
        "      print(f\"Error processing {data_name}: {e}\")\n",
        "\n",
        "\n"
      ],
      "metadata": {
        "colab": {
          "base_uri": "https://localhost:8080/"
        },
        "id": "kcsjdO6QaJMF",
        "outputId": "66b44758-691e-4463-cfad-52d4fc54d329"
      },
      "execution_count": null,
      "outputs": [
        {
          "output_type": "stream",
          "name": "stdout",
          "text": [
            "Processing dataset: waveform\n",
            "Error processing waveform: The 'gamma' parameter of SVC must be a str among {'auto', 'scale'} or a float in the range [0.0, inf). Got '0.1' instead.\n"
          ]
        },
        {
          "output_type": "stream",
          "name": "stderr",
          "text": [
            "/usr/local/lib/python3.10/dist-packages/sklearn/datasets/_openml.py:311: UserWarning: Multiple active versions of the dataset matching the name waveform-5000 exist. Versions may be fundamentally different, returning version 1.\n",
            "  warn(\n"
          ]
        }
      ]
    },
    {
      "cell_type": "code",
      "source": [
        "mode =  'RBFSampler approximation + SVM'\n",
        "print(f\"mode: {mode}\")\n",
        "\n",
        "from sklearn.kernel_approximation import RBFSampler\n",
        "try:\n",
        "        data = fetch_openml(name='waveform-5000', version=1, as_frame=True, parser='auto')\n",
        "        X, y = data.data, data.target\n",
        "\n",
        "\n",
        "        X_train, X_test, y_train, y_test = train_test_split(X, y, test_size=0.3, random_state=42)\n",
        "        rbf_sampler = RBFSampler(gamma='scale', n_components=100, random_state=42)\n",
        "\n",
        "        svm_pipeline = make_pipeline(StandardScaler(), rbf_sampler, SVC(kernel='linear'))\n",
        "        svm_pipeline.fit(X_train, y_train)\n",
        "        y_pred = svm_pipeline.predict(X_test)\n",
        "\n",
        "        # Output evaluation metrics\n",
        "        print(classification_report(y_test, y_pred))\n",
        "        #print(confusion_matrix(y_test, y_pred))\n",
        "\n",
        "        results_list.append((data_name, classification_report(y_test, y_pred, output_dict=True), confusion_matrix(y_test, y_pred)))\n",
        "\n",
        "except Exception as e:\n",
        "        print(f\"Error processing {data_name}: {e}\")\n"
      ],
      "metadata": {
        "colab": {
          "base_uri": "https://localhost:8080/"
        },
        "id": "meGrA1VdaQfk",
        "outputId": "5f27f02f-b59c-4f99-bb50-8195aafeca88"
      },
      "execution_count": null,
      "outputs": [
        {
          "output_type": "stream",
          "name": "stdout",
          "text": [
            "mode: RBFSampler approximation + SVM\n",
            "              precision    recall  f1-score   support\n",
            "\n",
            "           0       0.75      0.70      0.72       513\n",
            "           1       0.75      0.77      0.76       481\n",
            "           2       0.78      0.80      0.79       506\n",
            "\n",
            "    accuracy                           0.76      1500\n",
            "   macro avg       0.76      0.76      0.76      1500\n",
            "weighted avg       0.76      0.76      0.76      1500\n",
            "\n"
          ]
        }
      ]
    },
    {
      "cell_type": "code",
      "source": [
        "mode = 'Nystroem approximation + SVM'\n",
        "\n",
        "print(f\"mode: {mode}\")\n",
        "\n",
        "from sklearn.kernel_approximation import RBFSampler\n",
        "try:\n",
        "        data = fetch_openml(name='waveform-5000', version=1, as_frame=True, parser='auto')\n",
        "        X, y = data.data, data.target\n",
        "\n",
        "\n",
        "        X_train, X_test, y_train, y_test = train_test_split(X, y, test_size=0.3, random_state=42)\n",
        "        nystroem = Nystroem(kernel='rbf', gamma='scale', n_components=100, random_state=42)\n",
        "        svm_model = make_pipeline(StandardScaler(), nystroem, SVC(kernel='linear'))\n",
        "        svm_pipeline.fit(X_train, y_train)\n",
        "        y_pred = svm_pipeline.predict(X_test)\n",
        "\n",
        "        # Output evaluation metrics\n",
        "        print(classification_report(y_test, y_pred))\n",
        "        #print(confusion_matrix(y_test, y_pred))\n",
        "\n",
        "        results_list.append((data_name, classification_report(y_test, y_pred, output_dict=True), confusion_matrix(y_test, y_pred)))\n",
        "\n",
        "except Exception as e:\n",
        "        print(f\"Error processing {data_name}: {e}\")\n"
      ],
      "metadata": {
        "colab": {
          "base_uri": "https://localhost:8080/"
        },
        "id": "B5VEHr03a2nD",
        "outputId": "e84cf9da-9419-4753-c3a4-de21ddd3d888"
      },
      "execution_count": null,
      "outputs": [
        {
          "output_type": "stream",
          "name": "stdout",
          "text": [
            "mode: Nystroem approximation + SVM\n",
            "              precision    recall  f1-score   support\n",
            "\n",
            "           0       0.75      0.70      0.72       513\n",
            "           1       0.75      0.77      0.76       481\n",
            "           2       0.78      0.80      0.79       506\n",
            "\n",
            "    accuracy                           0.76      1500\n",
            "   macro avg       0.76      0.76      0.76      1500\n",
            "weighted avg       0.76      0.76      0.76      1500\n",
            "\n"
          ]
        }
      ]
    }
  ]
}