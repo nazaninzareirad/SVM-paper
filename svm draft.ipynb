{
 "cells": [
  {
   "cell_type": "code",
   "execution_count": 1,
   "id": "e292b67c-03cc-4497-b38b-bca69275b297",
   "metadata": {
    "editable": true,
    "slideshow": {
     "slide_type": ""
    },
    "tags": []
   },
   "outputs": [
    {
     "name": "stdout",
     "output_type": "stream",
     "text": [
      "Requirement already satisfied: numpy in c:\\users\\karapardazesh\\appdata\\local\\programs\\python\\python311\\lib\\site-packages (1.24.2)\n",
      "Requirement already satisfied: scikit-learn in c:\\users\\karapardazesh\\appdata\\local\\programs\\python\\python311\\lib\\site-packages (1.2.1)\n",
      "Requirement already satisfied: scipy>=1.3.2 in c:\\users\\karapardazesh\\appdata\\local\\programs\\python\\python311\\lib\\site-packages (from scikit-learn) (1.10.0)\n",
      "Requirement already satisfied: joblib>=1.1.1 in c:\\users\\karapardazesh\\appdata\\local\\programs\\python\\python311\\lib\\site-packages (from scikit-learn) (1.2.0)\n",
      "Requirement already satisfied: threadpoolctl>=2.0.0 in c:\\users\\karapardazesh\\appdata\\local\\programs\\python\\python311\\lib\\site-packages (from scikit-learn) (3.1.0)\n",
      "Note: you may need to restart the kernel to use updated packages.\n"
     ]
    },
    {
     "name": "stderr",
     "output_type": "stream",
     "text": [
      "\n",
      "[notice] A new release of pip is available: 23.3.1 -> 24.1.2\n",
      "[notice] To update, run: python.exe -m pip install --upgrade pip\n"
     ]
    }
   ],
   "source": [
    "pip install numpy scikit-learn"
   ]
  },
  {
   "cell_type": "markdown",
   "id": "c36099db-772f-467e-9983-d105a73ef1e6",
   "metadata": {},
   "source": [
    "RBF kernel"
   ]
  },
  {
   "cell_type": "code",
   "execution_count": 2,
   "id": "cef4a122-da5e-4df4-aca6-5baa21c8004f",
   "metadata": {},
   "outputs": [],
   "source": [
    "import numpy as np\n",
    "from sklearn.svm import SVC\n",
    "from sklearn.metrics import accuracy_score\n",
    "from sklearn.datasets import make_classification\n",
    "from sklearn.model_selection import train_test_split\n",
    "\n",
    "# RBF Kernel\n",
    "def rbf_kernel(x, c, gamma=0.1):\n",
    "    return np.exp(-gamma * np.linalg.norm(x - c)**2)\n",
    "\n",
    "# Initial Projection\n",
    "def initial_projection(X, centroids, gamma=0.1):\n",
    "    M = len(centroids)\n",
    "    projection = np.zeros((X.shape[0], M))\n",
    "    for i, x in enumerate(X):\n",
    "        for j, c in enumerate(centroids):\n",
    "            projection[i, j] = rbf_kernel(x, c, gamma)\n",
    "    return projection"
   ]
  },
  {
   "cell_type": "markdown",
   "id": "162f826a-6e81-4e08-8d39-7ca43e43454f",
   "metadata": {},
   "source": [
    "WLS-SVC and Update Rules"
   ]
  },
  {
   "cell_type": "code",
   "execution_count": 3,
   "id": "c97eda2a-7471-45ca-87fe-960b33d2e033",
   "metadata": {},
   "outputs": [],
   "source": [
    "class WLS_SVC:\n",
    "    def __init__(self, C=1.0):\n",
    "        self.C = C\n",
    "    \n",
    "    def fit(self, X, y):\n",
    "        l, M = X.shape\n",
    "        self.alpha = np.zeros(l)\n",
    "        self.w = np.zeros(M)\n",
    "        self.b = 0\n",
    "\n",
    "        for _ in range(10):  # A fixed number of iterations for simplicity\n",
    "            for i in range(l):\n",
    "                e_i = y[i] - (X[i] @ self.w + self.b)\n",
    "                a_i = 2 * self.alpha[i] * y[i] / (1 - y[i] * (X[i] @ self.w + self.b))\n",
    "                self.w += a_i * y[i] * X[i]\n",
    "                self.b += (y[i] - X[i] @ self.w)\n",
    "                self.alpha[i] = min(max(self.alpha[i] + e_i, 0), self.C)\n",
    "    \n",
    "    def predict(self, X):\n",
    "        return np.sign(X @ self.w + self.b)\n",
    "\n",
    "# Helper function to find new centroids (support vectors)\n",
    "def find_new_centroids(X, y, model):\n",
    "    support_vectors = X[np.abs(y - model.predict(X)) > 0.1]  # Threshold for selecting new centroids\n",
    "    return support_vectors\n"
   ]
  },
  {
   "cell_type": "markdown",
   "id": "8711b095-4328-4081-ad61-e30ebb4937d8",
   "metadata": {},
   "source": [
    "Iterative Scheme to Update the Classifier"
   ]
  },
  {
   "cell_type": "code",
   "execution_count": 4,
   "id": "f5a02bf2-d2ae-4bf3-91f6-c8c88d6cdc33",
   "metadata": {},
   "outputs": [
    {
     "name": "stderr",
     "output_type": "stream",
     "text": [
      "C:\\Users\\KaraPardazesh\\AppData\\Local\\Temp\\ipykernel_3620\\4081604373.py:14: RuntimeWarning: invalid value encountered in scalar divide\n",
      "  a_i = 2 * self.alpha[i] * y[i] / (1 - y[i] * (X[i] @ self.w + self.b))\n"
     ]
    },
    {
     "ename": "ValueError",
     "evalue": "matmul: Input operand 1 has a mismatch in its core dimension 0, with gufunc signature (n?,k),(k,m?)->(n?,m?) (size 4 is different from 20)",
     "output_type": "error",
     "traceback": [
      "\u001b[1;31m---------------------------------------------------------------------------\u001b[0m",
      "\u001b[1;31mValueError\u001b[0m                                Traceback (most recent call last)",
      "Cell \u001b[1;32mIn[4], line 24\u001b[0m\n\u001b[0;32m     21\u001b[0m initial_centroids \u001b[38;5;241m=\u001b[39m X_train[np\u001b[38;5;241m.\u001b[39mrandom\u001b[38;5;241m.\u001b[39mchoice(X_train\u001b[38;5;241m.\u001b[39mshape[\u001b[38;5;241m0\u001b[39m], \u001b[38;5;241m4\u001b[39m, replace\u001b[38;5;241m=\u001b[39m\u001b[38;5;28;01mFalse\u001b[39;00m)]\n\u001b[0;32m     23\u001b[0m \u001b[38;5;66;03m# Apply POKER\u001b[39;00m\n\u001b[1;32m---> 24\u001b[0m poker_model \u001b[38;5;241m=\u001b[39m \u001b[43miterative_poker\u001b[49m\u001b[43m(\u001b[49m\u001b[43mX_train\u001b[49m\u001b[43m,\u001b[49m\u001b[43m \u001b[49m\u001b[43my_train\u001b[49m\u001b[43m,\u001b[49m\u001b[43m \u001b[49m\u001b[43minitial_centroids\u001b[49m\u001b[43m)\u001b[49m\n\u001b[0;32m     25\u001b[0m poker_projection \u001b[38;5;241m=\u001b[39m initial_projection(X_test, initial_centroids)\n\u001b[0;32m     26\u001b[0m poker_predictions \u001b[38;5;241m=\u001b[39m poker_model\u001b[38;5;241m.\u001b[39mpredict(poker_projection)\n",
      "Cell \u001b[1;32mIn[4], line 8\u001b[0m, in \u001b[0;36miterative_poker\u001b[1;34m(X, y, initial_centroids, iterations, gamma)\u001b[0m\n\u001b[0;32m      6\u001b[0m     projection \u001b[38;5;241m=\u001b[39m initial_projection(X, centroids, gamma)\n\u001b[0;32m      7\u001b[0m     wls_svc\u001b[38;5;241m.\u001b[39mfit(projection, y)\n\u001b[1;32m----> 8\u001b[0m     new_centroids \u001b[38;5;241m=\u001b[39m \u001b[43mfind_new_centroids\u001b[49m\u001b[43m(\u001b[49m\u001b[43mX\u001b[49m\u001b[43m,\u001b[49m\u001b[43m \u001b[49m\u001b[43my\u001b[49m\u001b[43m,\u001b[49m\u001b[43m \u001b[49m\u001b[43mwls_svc\u001b[49m\u001b[43m)\u001b[49m\n\u001b[0;32m      9\u001b[0m     centroids \u001b[38;5;241m=\u001b[39m np\u001b[38;5;241m.\u001b[39mvstack([centroids, new_centroids])\n\u001b[0;32m     11\u001b[0m \u001b[38;5;28;01mreturn\u001b[39;00m wls_svc\n",
      "Cell \u001b[1;32mIn[3], line 24\u001b[0m, in \u001b[0;36mfind_new_centroids\u001b[1;34m(X, y, model)\u001b[0m\n\u001b[0;32m     23\u001b[0m \u001b[38;5;28;01mdef\u001b[39;00m \u001b[38;5;21mfind_new_centroids\u001b[39m(X, y, model):\n\u001b[1;32m---> 24\u001b[0m     support_vectors \u001b[38;5;241m=\u001b[39m X[np\u001b[38;5;241m.\u001b[39mabs(y \u001b[38;5;241m-\u001b[39m \u001b[43mmodel\u001b[49m\u001b[38;5;241;43m.\u001b[39;49m\u001b[43mpredict\u001b[49m\u001b[43m(\u001b[49m\u001b[43mX\u001b[49m\u001b[43m)\u001b[49m) \u001b[38;5;241m>\u001b[39m \u001b[38;5;241m0.1\u001b[39m]  \u001b[38;5;66;03m# Threshold for selecting new centroids\u001b[39;00m\n\u001b[0;32m     25\u001b[0m     \u001b[38;5;28;01mreturn\u001b[39;00m support_vectors\n",
      "Cell \u001b[1;32mIn[3], line 20\u001b[0m, in \u001b[0;36mWLS_SVC.predict\u001b[1;34m(self, X)\u001b[0m\n\u001b[0;32m     19\u001b[0m \u001b[38;5;28;01mdef\u001b[39;00m \u001b[38;5;21mpredict\u001b[39m(\u001b[38;5;28mself\u001b[39m, X):\n\u001b[1;32m---> 20\u001b[0m     \u001b[38;5;28;01mreturn\u001b[39;00m np\u001b[38;5;241m.\u001b[39msign(\u001b[43mX\u001b[49m\u001b[43m \u001b[49m\u001b[38;5;241;43m@\u001b[39;49m\u001b[43m \u001b[49m\u001b[38;5;28;43mself\u001b[39;49m\u001b[38;5;241;43m.\u001b[39;49m\u001b[43mw\u001b[49m \u001b[38;5;241m+\u001b[39m \u001b[38;5;28mself\u001b[39m\u001b[38;5;241m.\u001b[39mb)\n",
      "\u001b[1;31mValueError\u001b[0m: matmul: Input operand 1 has a mismatch in its core dimension 0, with gufunc signature (n?,k),(k,m?)->(n?,m?) (size 4 is different from 20)"
     ]
    }
   ],
   "source": [
    "def iterative_poker(X, y, initial_centroids, iterations=10, gamma=0.1):\n",
    "    centroids = initial_centroids\n",
    "    wls_svc = WLS_SVC()\n",
    "\n",
    "    for _ in range(iterations):\n",
    "        projection = initial_projection(X, centroids, gamma)\n",
    "        wls_svc.fit(projection, y)\n",
    "        new_centroids = find_new_centroids(X, y, wls_svc)\n",
    "        centroids = np.vstack([centroids, new_centroids])\n",
    "    \n",
    "    return wls_svc\n",
    "\n",
    "# Generate synthetic data\n",
    "X, y = make_classification(n_samples=500, n_features=20, n_informative=15, n_redundant=5, random_state=42)\n",
    "y = 2 * y - 1  # Convert labels to -1 and 1\n",
    "\n",
    "# Train-test split\n",
    "X_train, X_test, y_train, y_test = train_test_split(X, y, test_size=0.3, random_state=42)\n",
    "\n",
    "# Initial centroids\n",
    "initial_centroids = X_train[np.random.choice(X_train.shape[0], 4, replace=False)]\n",
    "\n",
    "# Apply POKER\n",
    "poker_model = iterative_poker(X_train, y_train, initial_centroids)\n",
    "poker_projection = initial_projection(X_test, initial_centroids)\n",
    "poker_predictions = poker_model.predict(poker_projection)\n",
    "poker_accuracy = accuracy_score(y_test, poker_predictions)\n",
    "\n",
    "# Apply regular SVM\n",
    "svm_model = SVC(kernel='rbf')\n",
    "svm_model.fit(X_train, y_train)\n",
    "svm_predictions = svm_model.predict(X_test)\n",
    "svm_accuracy = accuracy_score(y_test, svm_predictions)\n",
    "\n",
    "print(f\"POKER Accuracy: {poker_accuracy}\")\n",
    "print(f\"SVM Accuracy: {svm_accuracy}\")\n"
   ]
  }
 ],
 "metadata": {
  "kernelspec": {
   "display_name": "Python 3 (ipykernel)",
   "language": "python",
   "name": "python3"
  },
  "language_info": {
   "codemirror_mode": {
    "name": "ipython",
    "version": 3
   },
   "file_extension": ".py",
   "mimetype": "text/x-python",
   "name": "python",
   "nbconvert_exporter": "python",
   "pygments_lexer": "ipython3",
   "version": "3.11.0"
  }
 },
 "nbformat": 4,
 "nbformat_minor": 5
}
